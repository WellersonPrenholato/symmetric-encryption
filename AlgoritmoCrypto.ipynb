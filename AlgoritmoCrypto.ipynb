{
 "cells": [
  {
   "cell_type": "markdown",
   "metadata": {},
   "source": [
    "### Algoritmo para criptografar string de um arquivo .txt"
   ]
  },
  {
   "cell_type": "code",
   "execution_count": 15,
   "metadata": {},
   "outputs": [],
   "source": [
    "#https://cryptography.io/en/latest/fernet/"
   ]
  },
  {
   "cell_type": "code",
   "execution_count": 16,
   "metadata": {},
   "outputs": [],
   "source": [
    "#Bibliotecas\n",
    "import base64\n",
    "import os\n",
    "from cryptography.fernet import Fernet\n",
    "from cryptography.hazmat.backends import default_backend\n",
    "from cryptography.hazmat.primitives import hashes\n",
    "from cryptography.hazmat.primitives.kdf.pbkdf2 import PBKDF2HMAC"
   ]
  },
  {
   "cell_type": "code",
   "execution_count": 17,
   "metadata": {},
   "outputs": [],
   "source": [
    "#Nome Arquivos:\n",
    "arqKey = 'arqKey';\n",
    "arqInputOriginal = 'arqInputOriginal';\n",
    "arqOutputCrypt = 'arqOutputCrypt';\n",
    "arqOutOriginal = 'arqOutOriginal';"
   ]
  },
  {
   "cell_type": "code",
   "execution_count": 18,
   "metadata": {},
   "outputs": [],
   "source": [
    "#Faz a leitura do arquivo que contém a chave.\n",
    "arquivo = open(arqKey + '.txt', 'rb')\n",
    "keyPass = arquivo.read()\n",
    "arquivo.close()"
   ]
  },
  {
   "cell_type": "code",
   "execution_count": 19,
   "metadata": {},
   "outputs": [],
   "source": [
    "salt = os.urandom(16)"
   ]
  },
  {
   "cell_type": "code",
   "execution_count": 20,
   "metadata": {},
   "outputs": [],
   "source": [
    "kdf = PBKDF2HMAC(\n",
    "     algorithm=hashes.SHA256(),\n",
    "     length=32,\n",
    "     salt=salt,\n",
    "     iterations=99999,\n",
    "     backend=default_backend())"
   ]
  },
  {
   "cell_type": "code",
   "execution_count": 21,
   "metadata": {},
   "outputs": [],
   "source": [
    "key = base64.urlsafe_b64encode(kdf.derive(keyPass))"
   ]
  },
  {
   "cell_type": "code",
   "execution_count": 22,
   "metadata": {},
   "outputs": [
    {
     "name": "stdout",
     "output_type": "stream",
     "text": [
      "b'dQPJh_fjf6A2ymsEVSPugUZcFlwqIbJXdSViL8eFYmY='\n"
     ]
    }
   ],
   "source": [
    "#Chave criptografada\n",
    "print(key)"
   ]
  },
  {
   "cell_type": "code",
   "execution_count": 23,
   "metadata": {},
   "outputs": [],
   "source": [
    "f = Fernet(key)"
   ]
  },
  {
   "cell_type": "code",
   "execution_count": 24,
   "metadata": {},
   "outputs": [],
   "source": [
    "#Arquivo com o texto que será criptografado\n",
    "arquivo = open(arqInputOriginal + '.txt', 'rb')\n",
    "string = arquivo.read()\n",
    "arquivo.close()"
   ]
  },
  {
   "cell_type": "code",
   "execution_count": 25,
   "metadata": {},
   "outputs": [],
   "source": [
    "#String criptografada\n",
    "token = f.encrypt(string)"
   ]
  },
  {
   "cell_type": "code",
   "execution_count": 26,
   "metadata": {},
   "outputs": [],
   "source": [
    "#Guarda o texto criptografado em um arquivo de texto\n",
    "arquivo = open(arqOutputCrypt + '.txt','w+b')\n",
    "arquivo.write(token)\n",
    "arquivo.close()"
   ]
  },
  {
   "cell_type": "code",
   "execution_count": 27,
   "metadata": {},
   "outputs": [],
   "source": [
    "#Função que descriptografa o token\n",
    "OutputCrypt = f.decrypt(token)"
   ]
  },
  {
   "cell_type": "code",
   "execution_count": 28,
   "metadata": {},
   "outputs": [],
   "source": [
    "#Arquivo de texto original de saída\n",
    "arquivo = open(arqOutOriginal + '.txt', 'w+b')\n",
    "arquivo.write(OutputCrypt)\n",
    "arquivo.close()"
   ]
  },
  {
   "cell_type": "code",
   "execution_count": null,
   "metadata": {},
   "outputs": [],
   "source": []
  }
 ],
 "metadata": {
  "kernelspec": {
   "display_name": "Python 3",
   "language": "python",
   "name": "python3"
  },
  "language_info": {
   "codemirror_mode": {
    "name": "ipython",
    "version": 3
   },
   "file_extension": ".py",
   "mimetype": "text/x-python",
   "name": "python",
   "nbconvert_exporter": "python",
   "pygments_lexer": "ipython3",
   "version": "3.7.4"
  }
 },
 "nbformat": 4,
 "nbformat_minor": 2
}
